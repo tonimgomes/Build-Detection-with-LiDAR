{
  "nbformat": 4,
  "nbformat_minor": 0,
  "metadata": {
    "colab": {
      "provenance": [],
      "collapsed_sections": [
        "Sbn9FklAmXz_",
        "FiA2S32Lno5e"
      ],
      "authorship_tag": "ABX9TyNbfWG0OBvc5kOvC3NHHDiu",
      "include_colab_link": true
    },
    "kernelspec": {
      "name": "python3",
      "display_name": "Python 3"
    },
    "language_info": {
      "name": "python"
    }
  },
  "cells": [
    {
      "cell_type": "markdown",
      "metadata": {
        "id": "view-in-github",
        "colab_type": "text"
      },
      "source": [
        "<a href=\"https://colab.research.google.com/github/tonimgomes/Build-Detection-with-LiDAR/blob/main/Conjunto_2_Classifica%C3%A7%C3%A3o_Binaria.ipynb\" target=\"_parent\"><img src=\"https://colab.research.google.com/assets/colab-badge.svg\" alt=\"Open In Colab\"/></a>"
      ]
    },
    {
      "cell_type": "markdown",
      "source": [
        "\n",
        "\n",
        "# Instalações e Importações\n",
        "\n"
      ],
      "metadata": {
        "id": "Sbn9FklAmXz_"
      }
    },
    {
      "cell_type": "code",
      "source": [
        "pip install pandas scikit-learn\n"
      ],
      "metadata": {
        "id": "_Rvn0Ijg5mKT"
      },
      "execution_count": null,
      "outputs": []
    },
    {
      "cell_type": "code",
      "source": [
        "pip install openpyxl\n"
      ],
      "metadata": {
        "id": "cz7ANIL36hj7"
      },
      "execution_count": null,
      "outputs": []
    },
    {
      "cell_type": "code",
      "execution_count": null,
      "metadata": {
        "id": "d0CmjlfdBf2D"
      },
      "outputs": [],
      "source": [
        "import pandas as pd\n",
        "import numpy as np\n",
        "from sklearn.model_selection import train_test_split\n",
        "from sklearn.linear_model import LinearRegression\n"
      ]
    },
    {
      "cell_type": "markdown",
      "source": [
        "# Modelo de predição\n"
      ],
      "metadata": {
        "id": "RIu5jiEjmiD7"
      }
    },
    {
      "cell_type": "markdown",
      "source": [
        "## Importando o dataset de amostras aleatórias"
      ],
      "metadata": {
        "id": "IkJZqT5ZmqNm"
      }
    },
    {
      "cell_type": "code",
      "source": [
        "df_xlsx = pd.read_excel(\"caminho/para/seu/dataset\")\n",
        "df_csv = pd.read_csv(\"caminho/para/seu/dataset\")"
      ],
      "metadata": {
        "id": "vBseWu0VDYkU"
      },
      "execution_count": null,
      "outputs": []
    },
    {
      "cell_type": "code",
      "source": [
        "# Exibir as primeiras linhas do DataFrame\n",
        "print(df_xlsx.head())\n",
        "# Informações sobre o DataFrame\n",
        "print(df_xlsx.info())\n",
        "# Verificar valores ausentes em todas as colunas\n",
        "print(df_xlsx.isnull().sum())"
      ],
      "metadata": {
        "id": "6H8nZnseDsQI"
      },
      "execution_count": null,
      "outputs": []
    },
    {
      "cell_type": "markdown",
      "source": [
        "## Pré-processamento dos dados do dataset\n",
        "É importante realizar esse pré processamento a fim de verificar se as colunas de interesse (Telhado e Alvo) estão com dados válidos. As etapas a seguir incluem a remoção de células que apresentam valores nulos em Telhado e Alvo, remoção de colunas que não serão utilizadas na classificação e renomeação de colunas para um melhor entendimento dos atributos."
      ],
      "metadata": {
        "id": "S9o_hxBem04Y"
      }
    },
    {
      "cell_type": "code",
      "source": [
        "#Excluir valores ausentes na classe Alvo e Telhado simultâneamente\n",
        "df_xlsx_cleaned = df_xlsx.dropna(subset=['Alvo', 'Telhado'])\n",
        "\n",
        "#Excluir colunas Fid, Telhado e OUTPUT_4 que não serão utilizadas no código\n",
        "df_xlsx_cleaned.drop(columns=['fid'], inplace=True)\n",
        "df_xlsx_cleaned.drop(columns=['Telhado'], inplace=True)\n",
        "df_xlsx_cleaned.drop(columns=['OUTPUT_4'], inplace=True)\n",
        "\n",
        "#Renomear as colunas\n",
        "df_xlsx_cleaned.rename(columns={'intensity_resampled_rec': 'Intensidade'}, inplace=True)\n",
        "df_xlsx_cleaned.rename(columns={'OUTPUT_1': 'R'}, inplace=True)\n",
        "df_xlsx_cleaned.rename(columns={'OUTPUT_2': 'G'}, inplace=True)\n",
        "df_xlsx_cleaned.rename(columns={'OUTPUT_3': 'B'}, inplace=True)\n",
        "df_xlsx_cleaned.rename(columns={'textura_glcm_entropy': 'Entropia'}, inplace=True)\n",
        "df_xlsx_cleaned.rename(columns={'textura_glcm_ASM': 'ASM'}, inplace=True)\n",
        "df_xlsx_cleaned.rename(columns={'textura_glcm_correlation': 'Correlacao'}, inplace=True)\n"
      ],
      "metadata": {
        "id": "8fv4F1Ey3IRr"
      },
      "execution_count": null,
      "outputs": []
    },
    {
      "cell_type": "code",
      "source": [
        "# Informações sobre o DataFrame\n",
        "print(df_xlsx_cleaned.info())\n",
        "\n",
        "# Verificar valores ausentes em todas as colunas\n",
        "print(df_xlsx_cleaned.isnull().sum())\n",
        "\n",
        "#Salvar dataset pré processado\n",
        "df_xlsx_cleaned.to_excel('caminho/para/salvar/seu/dataset', index=False)\n",
        "\n"
      ],
      "metadata": {
        "id": "sgWulFby3oDP"
      },
      "execution_count": null,
      "outputs": []
    },
    {
      "cell_type": "markdown",
      "source": [
        "## Criando o conjunto de treinamento e teste a partir do Stratified Shuffle\n",
        "O Stratified Shuffle (embaralhamento estratificado) é uma técnica usada na amostragem de dados, para garantir que as proporções de classes no conjunto de dados original sejam preservadas nos conjuntos de treinamento e teste após a divisão."
      ],
      "metadata": {
        "id": "Obzhjp48m-Vq"
      }
    },
    {
      "cell_type": "code",
      "source": [
        "# Balancear as classes antes de dividir os dados\n",
        "# Separar classes\n",
        "telhado_0 = df_xlsx_cleaned[df_xlsx_cleaned['Telhado'] == 0]\n",
        "telhado_1 = df_xlsx_cleaned[df_xlsx_cleaned['Telhado'] == 1]\n",
        "\n",
        "# Amostrar aleatoriamente 300 pontos de Telhado = 0 (ou o número menor da classe majoritária para balancear)\n",
        "telhado_0_balanced = telhado_0.sample(n=300, random_state=42)\n",
        "\n",
        "# Combinar os dados balanceados\n",
        "balanced_df = pd.concat([telhado_0_balanced, telhado_1])"
      ],
      "metadata": {
        "id": "uvKbwx460SWZ"
      },
      "execution_count": null,
      "outputs": []
    },
    {
      "cell_type": "code",
      "source": [
        "from sklearn.model_selection import StratifiedShuffleSplit\n",
        "\n",
        "# Separar features (X) e rótulos (y)\n",
        "X = balanced_df.drop('Telhado', axis=1)  # Features (todas as colunas exceto 'Telhado')\n",
        "y = balanced_df['Telhado']  # Rótulos\n",
        "\n",
        "# Criar o objeto StratifiedShuffleSplit\n",
        "stratified_split = StratifiedShuffleSplit(n_splits=1, test_size=0.3, random_state=42)\n",
        "\n",
        "\n",
        "# Dividir os dados em conjunto de treinamento e teste utilizando o StratifiedShuffleSplit\n",
        "for train_index, test_index in stratified_split.split(X, y):\n",
        "    X_train, X_test = X.iloc[train_index], X.iloc[test_index]\n",
        "    y_train, y_test = y.iloc[train_index], y.iloc[test_index]\n",
        "\n",
        "# Verificar a distribuição das classes nos conjuntos de treinamento e teste\n",
        "print(\"Distribuição das classes no conjunto de treinamento:\")\n",
        "print(y_train.value_counts())\n",
        "print(\"\\nDistribuição das classes no conjunto de teste:\")\n",
        "print(y_test.value_counts())\n"
      ],
      "metadata": {
        "id": "jo7faElHkqCI"
      },
      "execution_count": null,
      "outputs": []
    },
    {
      "cell_type": "markdown",
      "source": [
        "## Random Forest\n"
      ],
      "metadata": {
        "id": "9H9TaluqnXXv"
      }
    },
    {
      "cell_type": "code",
      "source": [
        "from sklearn.metrics import accuracy_score, confusion_matrix, classification_report\n",
        "from sklearn.ensemble import RandomForestClassifier\n",
        "import time\n",
        "# Medir o tempo de treinamento do modelo de Random Forest\n",
        "start_time = time.time()\n",
        "# Criar o modelo de Random Forest com 100 árvores\n",
        "rf_model = RandomForestClassifier(n_estimators=100, random_state=42)\n",
        "rf_model.fit(X_train, y_train)\n",
        "training_time = time.time() - start_time\n",
        "print(f\"Tempo de treinamento do modelo de Random Forest: {training_time:.4f} segundos\")\n",
        "\n",
        "\n",
        "# Fazer previsões usando o conjunto de teste\n",
        "start_time = time.time()\n",
        "y_pred_rf = rf_model.predict(X_test)\n",
        "prediction_time = time.time() - start_time\n",
        "print(f\"Tempo de teste do modelo de Random Forest: {prediction_time:.4f} segundos\")\n",
        "\n",
        "# Avaliar o desempenho do modelo\n",
        "accuracy_rf = accuracy_score(y_test, y_pred_rf)\n",
        "print(\"Acurácia do modelo de Random Forest:\", accuracy_rf)\n",
        "\n",
        "# Matriz de confusão\n",
        "conf_matrix_rf = confusion_matrix(y_test, y_pred_rf)\n",
        "print(\"Matriz de Confusão do modelo de Random Forest:\\n\", conf_matrix_rf)\n",
        "\n",
        "# Relatório de classificação\n",
        "class_report_rf = classification_report(y_test, y_pred_rf)\n",
        "print(\"Relatório de Classificação do modelo de Random Forest:\\n\", class_report_rf)"
      ],
      "metadata": {
        "id": "T1SInq6w43VT"
      },
      "execution_count": null,
      "outputs": []
    },
    {
      "cell_type": "markdown",
      "source": [
        "# Classificação de telhados\n",
        "Nesta seção, realizaremos as etapas para classificar os telhados utilizando o modelo de predição gerado.\n",
        "\n",
        "Primeiramente, importamos e analisamos os Rasters (Ortofoto, MDT, MDS, Intensidade, Textura). Analisamos os 10 primeiros valores e o tamanho em pixels de cada Raster.\n",
        "\n",
        "Na pesquisa específica, verificamos que os primeiros valores dos Rasters estavam nulos, o que exigiu um pequeno recorte no tamanho dos mesmos. Se os Rasters originais estiverem em conformidade, o recorte não será necessário.\n",
        "\n",
        "Com os Rasters carregados, geramos um novo dataframe contendo o valor de cada pixel de cada Raster. Este processo pode ser demorado; caso o dataframe já esteja disponível, essa etapa pode ser pulada.\n",
        "\n",
        "Finalmente, classificamos o dataframe utilizando o modelo de predição, gerando assim a classificação dos telhados."
      ],
      "metadata": {
        "id": "ESMDU7Clndtm"
      }
    },
    {
      "cell_type": "markdown",
      "source": [
        "## Instalação da biblioteca rasterio"
      ],
      "metadata": {
        "id": "FiA2S32Lno5e"
      }
    },
    {
      "cell_type": "code",
      "source": [
        "pip install rasterio\n"
      ],
      "metadata": {
        "id": "_3v8FW4E2LlD"
      },
      "execution_count": null,
      "outputs": []
    },
    {
      "cell_type": "markdown",
      "source": [
        "## Importação e análise dos dados da Ortofoto e os Rasters de Intensidade, MDS, MDT e Texturas\n",
        "O código abaixo importa os Rasters de Ortofoto, MDT, MDS, Intensidade e Textura. **Caso os rasters estajam em conformidade, o recorte deles não será necessário.**"
      ],
      "metadata": {
        "id": "GridiRBGnw4Q"
      }
    },
    {
      "cell_type": "code",
      "source": [
        "import rasterio\n",
        "import pandas as pd\n",
        "import numpy as np\n",
        "from rasterio.windows import Window\n",
        "\n",
        "#--------------ORTOFOTO---------------------------\n",
        "\n",
        "# Carregar a ortofoto (imagem RGB)\n",
        "ortofoto = rasterio.open(\"caminho/para/sua/ortofoto\")\n",
        "\n",
        "num_bands = ortofoto.count\n",
        "print(\"Número de bandas na ortofoto:\", num_bands)\n",
        "\n",
        "# Acessar os valores dos 10 primeiros pixels da ortofoto\n",
        "ortofoto_values = ortofoto.read(window=((0, 1), (0, 10)))\n",
        "\n",
        "# Exibir os valores\n",
        "print(\"Valores dos 10 primeiros pixels da ortofoto:\")\n",
        "print(ortofoto_values)\n",
        "\n",
        "# Obter o número de pixels da ortofoto (imagem RGB)\n",
        "num_pixels_ortofoto = ortofoto.width * ortofoto.height\n",
        "print(\"Número total de pixels na ortofoto:\", num_pixels_ortofoto)\n",
        "\n",
        "#----------------INTENSIDADE-------------------------\n",
        "\n",
        "# Carregar o raster de intensidade\n",
        "intensidade = rasterio.open(\"caminho/para/sua/intensidade\")\n",
        "\n",
        "# Obter o número de bandas na intensidade\n",
        "num_bands_intensidade = intensidade.count\n",
        "print(\"\\nNúmero de bandas na intensidade:\", num_bands_intensidade)\n",
        "\n",
        "# Acessar os valores dos 10 primeiros pixels da intensidade\n",
        "intensidade_values = intensidade.read(window=((0, 1), (0, 10)))\n",
        "\n",
        "# Exibir os valores\n",
        "print(\"Valores dos 10 primeiros pixels da intensidade:\")\n",
        "print(intensidade_values)\n",
        "\n",
        "# Obter o número de pixels da intensidade\n",
        "num_pixels_intensidade = intensidade.width * intensidade.height\n",
        "print(\"Número total de pixels na intensidade:\", num_pixels_intensidade)\n",
        "\n",
        "#------------------MDS-----------------------\n",
        "\n",
        "# Carregar o raster de MDS\n",
        "mds = rasterio.open(\"caminho/para/seu/mds\")\n",
        "\n",
        "# Número de bandas no MDS\n",
        "num_bands_mds = mds.count\n",
        "print(\"\\nNúmero de bandas no MDS:\", num_bands_mds)\n",
        "\n",
        "# Acessar os valores dos 10 primeiros pixels do MDS\n",
        "mds_values = mds.read(window=((0, 1), (0, 10)))\n",
        "\n",
        "# Exibir os valores\n",
        "print(\"Valores dos 10 primeiros pixels do MDS:\")\n",
        "print(mds_values)\n",
        "\n",
        "# Obter o número de pixels do MDS\n",
        "num_pixels_mds = mds.width * mds.height\n",
        "print(\"Número total de pixels no MDS:\", num_pixels_mds)\n",
        "\n",
        "#---------------MDT--------------------------\n",
        "\n",
        "# Carregar o raster de MDT\n",
        "mdt = rasterio.open(\"caminho/para/seu/mdt\")\n",
        "\n",
        "# Número de bandas no MDT\n",
        "num_bands_mdt = mdt.count\n",
        "print(\"\\nNúmero de bandas no MDT:\", num_bands_mdt)\n",
        "\n",
        "# Acessar os valores dos 10 primeiros pixels do MDT\n",
        "mdt_values = mdt.read(window=((0, 1), (0, 10)))\n",
        "\n",
        "# Exibir os valores\n",
        "print(\"Valores dos 10 primeiros pixels do MDT:\")\n",
        "print(mdt_values)\n",
        "\n",
        "# Obter o número de pixels do MDT\n",
        "num_pixels_mdt = mdt.width * mdt.height\n",
        "print(\"Número total de pixels no MDT:\", num_pixels_mdt)\n",
        "\n",
        "#--------------TEXTURA GLCM ENTROPY---------------------------\n",
        "\n",
        "# Carregar o raster de textura GLCM Entropy\n",
        "textura_glcm_entropy = rasterio.open(\"caminho/para/sua/entropia\")\n",
        "\n",
        "# Número de bandas na textura GLCM Entropy\n",
        "num_bands_textura_entropy = textura_glcm_entropy.count\n",
        "print(\"\\nNúmero de bandas na textura GLCM Entropy:\", num_bands_textura_entropy)\n",
        "\n",
        "# Acessar os valores dos 10 primeiros pixels da textura GLCM Entropy\n",
        "textura_entropy_values = textura_glcm_entropy.read(window=((0, 1), (0, 10)))\n",
        "\n",
        "# Exibir os valores\n",
        "print(\"Valores dos 10 primeiros pixels da textura GLCM Entropy:\")\n",
        "print(textura_entropy_values)\n",
        "\n",
        "# Obter o número de pixels da textura GLCM Entropy\n",
        "num_pixels_entropy = textura_glcm_entropy.width * textura_glcm_entropy.height\n",
        "print(\"Número total de pixels na textura GLCM Entropy:\", num_pixels_entropy)\n",
        "\n",
        "#--------------TEXTURA GLCM CORRELATION---------------------------\n",
        "\n",
        "# Carregar o raster de textura GLCM Correlation\n",
        "textura_glcm_correlation = rasterio.open(\"caminho/para/sua/correlacao\")\n",
        "\n",
        "# Número de bandas na textura GLCM Correlation\n",
        "num_bands_textura_correlation = textura_glcm_correlation.count\n",
        "print(\"\\nNúmero de bandas na textura GLCM Correlation:\", num_bands_textura_correlation)\n",
        "\n",
        "# Acessar os valores dos 10 primeiros pixels da textura GLCM Correlation\n",
        "textura_correlation_values = textura_glcm_correlation.read(window=((0, 1), (0, 10)))\n",
        "\n",
        "# Exibir os valores\n",
        "print(\"Valores dos 10 primeiros pixels da textura GLCM Correlation:\")\n",
        "print(textura_correlation_values)\n",
        "\n",
        "# Obter o número de pixels da textura GLCM Correlation\n",
        "num_pixels_correlation = textura_glcm_correlation.width * textura_glcm_correlation.height\n",
        "print(\"Número total de pixels na textura GLCM Correlation:\", num_pixels_correlation)\n",
        "\n",
        "#--------------TEXTURA GLCM ASM---------------------------\n",
        "\n",
        "# Carregar o raster de textura GLCM ASM\n",
        "textura_glcm_asm = rasterio.open(\"caminho/para/sua/ASM\")\n",
        "\n",
        "# Número de bandas na textura GLCM ASM\n",
        "num_bands_textura_asm = textura_glcm_asm.count\n",
        "print(\"\\nNúmero de bandas na textura GLCM ASM:\", num_bands_textura_asm)\n",
        "\n",
        "# Acessar os valores dos 10 primeiros pixels da textura GLCM ASM\n",
        "textura_asm_values = textura_glcm_asm.read(window=((0, 1), (0, 10)))\n",
        "\n",
        "# Exibir os valores\n",
        "print(\"Valores dos 10 primeiros pixels da textura GLCM ASM:\")\n",
        "print(textura_asm_values)\n",
        "\n",
        "# Obter o número de pixels da textura GLCM ASM\n",
        "num_pixels_asm = textura_glcm_asm.width * textura_glcm_asm.height\n",
        "print(\"Número total de pixels na textura GLCM ASM:\", num_pixels_asm)\n",
        "\n"
      ],
      "metadata": {
        "id": "WdCUnPwuCwnl"
      },
      "execution_count": null,
      "outputs": []
    },
    {
      "cell_type": "markdown",
      "source": [
        "O código abaixo realiza o recorte dos rasters para uma nova resolução desejada, não utilizar caso não for necessário"
      ],
      "metadata": {
        "id": "h8I2zSHjiqoH"
      }
    },
    {
      "cell_type": "code",
      "source": [
        "# Define a nova resolução desejada\n",
        "nova_resolucao = 3910\n",
        "\n",
        "# Define as dimensões para cortar (10 pixels de cada lado)\n",
        "topo = 10\n",
        "esquerda = 10\n",
        "inferior = ortofoto.height - 10\n",
        "direita = ortofoto.width - 10\n",
        "\n",
        "# Cria uma janela para cortar os rasters\n",
        "janela_corte = Window(esquerda, topo, nova_resolucao, nova_resolucao)\n",
        "\n",
        "# Corta a ortofoto\n",
        "ortofoto_cortada = ortofoto.read(window=janela_corte)\n",
        "with rasterio.open(\"caminho/para/salvar/ortofoto_cortada.tif\", 'w', **ortofoto.profile) as dst:\n",
        "    dst.write(ortofoto_cortada)\n",
        "\n",
        "# Corta a intensidade\n",
        "intensidade_cortada = intensidade.read(window=janela_corte)\n",
        "with rasterio.open(\"caminho/para/salvar/intensidade_cortada.tif\", 'w', **intensidade.profile) as dst:\n",
        "    dst.write(intensidade_cortada)\n",
        "\n",
        "# Corta o MDS\n",
        "mds_cortado = mds.read(window=janela_corte)\n",
        "with rasterio.open(\"caminho/para/salvar/mds_cortado.tif\", 'w', **mds.profile) as dst:\n",
        "    dst.write(mds_cortado)\n",
        "\n",
        "# Corta o MDT\n",
        "mdt_cortado = mdt.read(window=janela_corte)\n",
        "with rasterio.open(\"caminho/para/salvar/mdt_cortado.tif\", 'w', **mdt.profile) as dst:\n",
        "    dst.write(mdt_cortado)\n",
        "\n",
        "# Corta a textura GLCM Entropy\n",
        "textura_entropy_cortada = textura_glcm_entropy.read(window=janela_corte)\n",
        "with rasterio.open(\"caminho/para/salvar/textura_entropy_cortada.tif\", 'w', **textura_glcm_entropy.profile) as dst:\n",
        "    dst.write(textura_entropy_cortada)\n",
        "\n",
        "# Corta a textura GLCM Correlation\n",
        "textura_correlation_cortada = textura_glcm_correlation.read(window=janela_corte)\n",
        "with rasterio.open(\"caminho/para/salvar/textura_correlation_cortada.tif\", 'w', **textura_glcm_correlation.profile) as dst:\n",
        "    dst.write(textura_correlation_cortada)\n",
        "\n",
        "# Corta a textura GLCM ASM\n",
        "textura_asm_cortada = textura_glcm_asm.read(window=janela_corte)\n",
        "with rasterio.open(\"caminho/para/salvar/textura_asm_cortada.tif\", 'w', **textura_glcm_asm.profile) as dst:\n",
        "    dst.write(textura_asm_cortada)\n",
        "\n",
        "\n",
        "# Exibe os shapes dos rasters cortados\n",
        "print(\"Ortofoto cortada:\", ortofoto_cortada.shape)\n",
        "print(\"Intensidade cortada:\", intensidade_cortada.shape)\n",
        "print(\"MDS cortado:\", mds_cortado.shape)\n",
        "print(\"MDT cortado:\", mdt_cortado.shape)\n",
        "print(\"Textura GLCM Entropy cortada:\", textura_entropy_cortada.shape)\n",
        "print(\"Textura GLCM Correlation cortada:\", textura_correlation_cortada.shape)\n",
        "print(\"Textura GLCM ASM cortada:\", textura_asm_cortada.shape)\n"
      ],
      "metadata": {
        "id": "Y2ea5dxXNT4x"
      },
      "execution_count": null,
      "outputs": []
    },
    {
      "cell_type": "markdown",
      "source": [
        "Importação dos novos rasters recortados"
      ],
      "metadata": {
        "id": "FAt60TJKiymP"
      }
    },
    {
      "cell_type": "code",
      "source": [
        "import rasterio\n",
        "import pandas as pd\n",
        "import numpy as np\n",
        "from rasterio.windows import Window\n",
        "\n",
        "#--------------ORTOFOTO---------------------------\n",
        "\n",
        "# Carregar a ortofoto (imagem RGB)\n",
        "ortofoto_rec = rasterio.open(\"caminho/para/abrir/ortofoto_cortada.tif\")\n",
        "\n",
        "num_bands = ortofoto_rec.count\n",
        "print(\"Número de bandas na ortofoto:\", num_bands)\n",
        "\n",
        "# Acessar os valores dos 10 primeiros pixels da ortofoto\n",
        "ortofoto_rec_values = ortofoto_rec.read(window=((0, 1), (0, 10)))\n",
        "\n",
        "# Exibir os valores\n",
        "print(\"Valores dos 10 primeiros pixels da ortofoto:\")\n",
        "print(ortofoto_rec_values)\n",
        "\n",
        "# Obter o número de pixels da ortofoto (imagem RGB)\n",
        "num_pixels_ortofoto_rec = ortofoto_rec.width * ortofoto_rec.height\n",
        "print(\"Número total de pixels na ortofoto:\", num_pixels_ortofoto_rec)\n",
        "\n",
        "#----------------INTENSIDADE-------------------------\n",
        "\n",
        "# Carregar o raster de intensidade\n",
        "intensidade_rec = rasterio.open(\"caminho/para/abrir/intensidade_cortada.tif\")\n",
        "\n",
        "# Obter o número de bandas na intensidade\n",
        "num_bands_intensidade = intensidade_rec.count\n",
        "print(\"\\nNúmero de bandas na intensidade:\", num_bands_intensidade)\n",
        "\n",
        "# Acessar os valores dos 10 primeiros pixels da intensidade\n",
        "intensidade_rec_values = intensidade_rec.read(window=((0, 1), (0, 10)))\n",
        "\n",
        "# Exibir os valores\n",
        "print(\"Valores dos 10 primeiros pixels da intensidade:\")\n",
        "print(intensidade_rec_values)\n",
        "\n",
        "# Obter o número de pixels da intensidade\n",
        "num_pixels_intensidade_rec = intensidade_rec.width * intensidade_rec.height\n",
        "print(\"Número total de pixels na intensidade:\", num_pixels_intensidade_rec)\n",
        "\n",
        "#------------------MDS-----------------------\n",
        "\n",
        "# Carregar o raster de MDS\n",
        "mds_rec = rasterio.open(\"caminho/para/abrir/mds_cortado.tif\")\n",
        "\n",
        "# Número de bandas no MDS\n",
        "num_bands_mds = mds_rec.count\n",
        "print(\"\\nNúmero de bandas no MDS:\", num_bands_mds)\n",
        "\n",
        "# Acessar os valores dos 10 primeiros pixels do MDS\n",
        "mds_rec_values = mds_rec.read(window=((0, 1), (0, 10)))\n",
        "\n",
        "# Exibir os valores\n",
        "print(\"Valores dos 10 primeiros pixels do MDS:\")\n",
        "print(mds_rec_values)\n",
        "\n",
        "# Obter o número de pixels do MDS\n",
        "num_pixels_mds_rec = mds_rec.width * mds_rec.height\n",
        "print(\"Número total de pixels no MDS:\", num_pixels_mds_rec)\n",
        "\n",
        "#---------------MDT--------------------------\n",
        "\n",
        "# Carregar o raster de MDT\n",
        "mdt_rec = rasterio.open(\"caminho/para/abrir/mdt_cortado.tif\")\n",
        "\n",
        "# Número de bandas no MDT\n",
        "num_bands_mdt = mdt_rec.count\n",
        "print(\"\\nNúmero de bandas no MDT:\", num_bands_mdt)\n",
        "\n",
        "# Acessar os valores dos 10 primeiros pixels do MDT\n",
        "mdt_rec_values = mdt_rec.read(window=((0, 1), (0, 10)))\n",
        "\n",
        "# Exibir os valores\n",
        "print(\"Valores dos 10 primeiros pixels do MDT:\")\n",
        "print(mdt_rec_values)\n",
        "\n",
        "# Obter o número de pixels do MDT\n",
        "num_pixels_mdt_rec = mdt_rec.width * mdt_rec.height\n",
        "print(\"Número total de pixels no MDT:\", num_pixels_mdt_rec)\n",
        "\n",
        "#--------------TEXTURA GLCM ENTROPY---------------------------\n",
        "\n",
        "# Carregar o raster de textura GLCM Entropy\n",
        "textura_glcm_entropy_rec = rasterio.open(\"caminho/para/abrir/textura_entropy_cortada.tif\")\n",
        "\n",
        "# Número de bandas na textura GLCM Entropy\n",
        "num_bands_textura_entropy = textura_glcm_entropy_rec.count\n",
        "print(\"\\nNúmero de bandas na textura GLCM Entropy:\", num_bands_textura_entropy)\n",
        "\n",
        "# Acessar os valores dos 10 primeiros pixels da textura GLCM Entropy\n",
        "textura_entropy_rec_values = textura_glcm_entropy_rec.read(window=((0, 1), (0, 10)))\n",
        "\n",
        "# Exibir os valores\n",
        "print(\"Valores dos 10 primeiros pixels da textura GLCM Entropy:\")\n",
        "print(textura_entropy_rec_values)\n",
        "\n",
        "# Obter o número de pixels da textura GLCM Entropy\n",
        "num_pixels_entropy_rec = textura_glcm_entropy_rec.width * textura_glcm_entropy_rec.height\n",
        "print(\"Número total de pixels na textura GLCM Entropy:\", num_pixels_entropy_rec)\n",
        "\n",
        "#--------------TEXTURA GLCM CORRELATION---------------------------\n",
        "\n",
        "# Carregar o raster de textura GLCM Correlation\n",
        "textura_glcm_correlation_rec = rasterio.open(\"caminho/para/abrir/textura_correlation_cortada.tif\")\n",
        "\n",
        "# Número de bandas na textura GLCM Correlation\n",
        "num_bands_textura_correlation = textura_glcm_correlation_rec.count\n",
        "print(\"\\nNúmero de bandas na textura GLCM Correlation:\", num_bands_textura_correlation)\n",
        "\n",
        "# Acessar os valores dos 10 primeiros pixels da textura GLCM Correlation\n",
        "textura_correlation_rec_values = textura_glcm_correlation_rec.read(window=((0, 1), (0, 10)))\n",
        "\n",
        "# Exibir os valores\n",
        "print(\"Valores dos 10 primeiros pixels da textura GLCM Correlation:\")\n",
        "print(textura_correlation_rec_values)\n",
        "\n",
        "# Obter o número de pixels da textura GLCM Correlation\n",
        "num_pixels_correlation_rec = textura_glcm_correlation_rec.width * textura_glcm_correlation_rec.height\n",
        "print(\"Número total de pixels na textura GLCM Correlation:\", num_pixels_correlation_rec)\n",
        "\n",
        "#--------------TEXTURA GLCM ASM---------------------------\n",
        "\n",
        "# Carregar o raster de textura GLCM ASM\n",
        "textura_glcm_asm_rec = rasterio.open(\"caminho/para/abrir/textura_asm_cortada.tif\")\n",
        "\n",
        "# Número de bandas na textura GLCM ASM\n",
        "num_bands_textura_asm = textura_glcm_asm_rec.count\n",
        "print(\"\\nNúmero de bandas na textura GLCM ASM:\", num_bands_textura_asm)\n",
        "\n",
        "# Acessar os valores dos 10 primeiros pixels da textura GLCM ASM\n",
        "textura_asm_rec_values = textura_glcm_asm_rec.read(window=((0, 1), (0, 10)))\n",
        "\n",
        "# Exibir os valores\n",
        "print(\"Valores dos 10 primeiros pixels da textura GLCM ASM:\")\n",
        "print(textura_asm_rec_values)\n",
        "\n",
        "# Obter o número de pixels da textura GLCM ASM\n",
        "num_pixels_asm_rec = textura_glcm_asm_rec.width * textura_glcm_asm_rec.height\n",
        "print(\"Número total de pixels na textura GLCM ASM:\", num_pixels_asm_rec)\n",
        "\n",
        "\n"
      ],
      "metadata": {
        "id": "-ye7wdFtPmHl"
      },
      "execution_count": null,
      "outputs": []
    },
    {
      "cell_type": "markdown",
      "source": [
        "## Gerar o dataframe a partir da Ortofoto, MDS, MDT e Textura"
      ],
      "metadata": {
        "id": "ML2tzHsQWOK0"
      }
    },
    {
      "cell_type": "markdown",
      "source": [
        "O código abaixo gera o dataframe a partir dos Rasters importados anteriormente. Este dataframe contém os valores de cada pixel de todos os Rasters. **Como é um procedimento custoso, execute-o apenas se o dataframe ainda não estiver disponível.**"
      ],
      "metadata": {
        "id": "tsy38Oosi2pC"
      }
    },
    {
      "cell_type": "code",
      "source": [
        "import rasterio\n",
        "import numpy as np\n",
        "import pandas as pd\n",
        "from sklearn.tree import DecisionTreeClassifier\n",
        "\n",
        "\n",
        "# Extrair valores de R, G, B, Intensidade, MDS, MDT, Entropia, ASM e Correlação para cada pixel\n",
        "pixels_data = []\n",
        "for col in range(ortofoto_rec.width):\n",
        "    for row in range(ortofoto_rec.height):\n",
        "        values_rgb = ortofoto_rec.read(window=((row, row+1), (col, col+1)))\n",
        "        intensity_val = intensidade_rec.read(window=((row, row+1), (col, col+1)))\n",
        "        mds_val = mds_rec.read(window=((row, row+1), (col, col+1)))\n",
        "        mdt_val = mdt_rec.read(window=((row, row+1), (col, col+1)))\n",
        "        entropia_val = textura_glcm_entropy_rec.read(window=((row, row+1), (col, col+1)))\n",
        "        asm_val = textura_glcm_asm_rec.read(window=((row, row+1), (col, col+1)))\n",
        "        correlacao_val = textura_glcm_correlation_rec.read(window=((row, row+1), (col, col+1)))\n",
        "\n",
        "        R = values_rgb[0][0][0]\n",
        "        G = values_rgb[1][0][0]\n",
        "        B = values_rgb[2][0][0]\n",
        "\n",
        "        pixels_data.append([R, G, B, intensity_val[0][0][0], mds_val[0][0][0], mdt_val[0][0][0],\n",
        "                            entropia_val[0][0][0], asm_val[0][0][0], correlacao_val[0][0][0]])\n",
        "\n",
        "# Converter os dados em um DataFrame\n",
        "df_pixels = pd.DataFrame(pixels_data, columns=['R', 'G', 'B', 'Intensidade', 'MDS', 'MDT', 'Entropia', 'ASM', 'Correlacao'])\n",
        "\n",
        "\n",
        "df_pixels.to_csv('caminho/para/salvar/dataframe', index=False)\n"
      ],
      "metadata": {
        "id": "y7C0nHU7zjfE"
      },
      "execution_count": null,
      "outputs": []
    },
    {
      "cell_type": "code",
      "source": [
        "df_pixels = pd.read_csv(\"caminho/para/abrir/dataframe\")"
      ],
      "metadata": {
        "id": "wtRR23V4vBn4"
      },
      "execution_count": null,
      "outputs": []
    },
    {
      "cell_type": "code",
      "source": [
        "print(df_pixels.info())\n",
        "print(df_pixels.head())"
      ],
      "metadata": {
        "id": "QpwNsxR0SlPg"
      },
      "execution_count": null,
      "outputs": []
    },
    {
      "cell_type": "markdown",
      "source": [
        "## Classificar o dataframe gerado\n"
      ],
      "metadata": {
        "id": "tdjdNvIoWiMn"
      }
    },
    {
      "cell_type": "code",
      "source": [
        "# Reordenar as colunas de df_pixels para corresponder à ordem do conjunto de treinamento original\n",
        "df_pixels = df_pixels[X_train.columns]\n",
        "\n",
        "# Medir o tempo de predição e reformatação\n",
        "start_time = time.time()\n",
        "# Utilizar o modelo de Random Forest treinado para prever as classes de todos os pixels\n",
        "predicted_classes_rf = rf_model.predict(df_pixels)\n",
        "\n",
        "# Reformatação das saídas classificadas de volta para o formato da imagem original\n",
        "classified_image_rf = predicted_classes_rf.reshape((ortofoto_rec.height, ortofoto_rec.width))\n",
        "\n",
        "# Tempo total de execução\n",
        "total_time = time.time() - start_time\n",
        "print(\"Tempo total para predição e reformatação:\", total_time, \"segundos\")"
      ],
      "metadata": {
        "id": "_Fe9FdzhreH4"
      },
      "execution_count": null,
      "outputs": []
    },
    {
      "cell_type": "code",
      "source": [
        "import matplotlib.pyplot as plt\n",
        "# Converter os rótulos para valores numéricos\n",
        "classified_image_rf_numeric = classified_image_rf.astype(np.uint8)\n",
        "\n",
        "# Exibir a imagem classificada\n",
        "plt.imshow(classified_image_rf_numeric, cmap='jet')\n",
        "plt.colorbar(label='Classes')\n",
        "plt.title('Imagem Classificada (Random Forest)')\n",
        "plt.xlabel('Pixels')\n",
        "plt.ylabel('Pixels')\n",
        "plt.show()\n",
        "\n",
        "# Abrir a imagem original (ortofoto) para obter o perfil\n",
        "with rasterio.open(\"caminho\\para\\abrir\\ortofoto_cortada.tif\") as src:\n",
        "    profile = src.profile\n",
        "\n",
        "# Atualizar o perfil para refletir o novo dtype e count\n",
        "profile.update(dtype=rasterio.uint8, count=1)\n",
        "\n",
        "# Transpor a imagem classificada para garantir a orientação correta\n",
        "classified_image_rf_transposed = list(zip(*classified_image_rf_numeric[::1]))\n",
        "\n",
        "\n",
        "with rasterio.open('caminho\\para\\salvar\\classificacao_binaria_conjunto2', 'w', **profile) as dst:\n",
        "    dst.write(np.array(classified_image_rf_transposed, dtype=np.uint8), 1)"
      ],
      "metadata": {
        "id": "8qSeK4BLb-LG"
      },
      "execution_count": null,
      "outputs": []
    },
    {
      "cell_type": "markdown",
      "source": [
        "Salvar imagem em formato PNG"
      ],
      "metadata": {
        "id": "1XSbl0YEjNct"
      }
    },
    {
      "cell_type": "code",
      "source": [
        "plt.imsave('caminho/para/salvar/classificacao_binaria_conjunto2.png', classified_image_rf_uint8, cmap='jet')"
      ],
      "metadata": {
        "id": "O_1Epc0-jOKf"
      },
      "execution_count": null,
      "outputs": []
    },
    {
      "cell_type": "markdown",
      "source": [
        "## Suavização da Imagem Classificada\n",
        "Este código realiza a suavização de uma imagem classificada utilizando a função de moda em uma subárea de uma imagem raster.\n",
        "\n",
        "A função moda é definida para calcular a moda de um conjunto de valores inteiros. A moda é o valor que aparece com mais frequência em um conjunto de dados. A função converte os valores em inteiros, conta a frequência de cada valor usando np.bincount e retorna o valor mais frequente com np.argmax"
      ],
      "metadata": {
        "id": "zEDRYUHijOIM"
      }
    },
    {
      "cell_type": "markdown",
      "source": [],
      "metadata": {
        "id": "dwJzXfB6locv"
      }
    },
    {
      "cell_type": "code",
      "source": [
        "import rasterio\n",
        "import numpy as np\n",
        "from scipy.ndimage import generic_filter\n",
        "\n",
        "# Função para calcular a moda com depuração\n",
        "def moda(values):\n",
        "    try:\n",
        "        values = values.astype(int)  # Garantir que os valores são inteiros\n",
        "        counts = np.bincount(values)\n",
        "        return np.argmax(counts)\n",
        "    except Exception as e:\n",
        "        print(f\"Erro na função moda: {e}\")\n",
        "        return 0  # Valor padrão em caso de erro\n",
        "\n",
        "# Carregar a classificação\n",
        "with rasterio.open(\"classificacao_binaria_conjunto2.tif\") as src:\n",
        "    # Ler a primeira banda inteira\n",
        "    classificacao = src.read(1)\n",
        "    profile = src.profile\n",
        "\n",
        "\n",
        "\n",
        "# Aplicar o filtro de moda na subárea\n",
        "classificacao_smooth = generic_filter(classificacao, moda, size=3)\n",
        "\n",
        "\n",
        "# Salvar a classificação suavizada (apenas a subárea)\n",
        "with rasterio.open(\"caminho/para/salvar/classificacao_binaria_conjunto2_suavizada.tif\", 'w', **profile) as dst:\n",
        "    dst.write(classificacao_smooth, 1)\n",
        "\n",
        "print(\"Classificação suavizada da subárea salva com sucesso.\")\n"
      ],
      "metadata": {
        "colab": {
          "base_uri": "https://localhost:8080/"
        },
        "id": "vB5X0EnqgpOE",
        "outputId": "f33ec23d-545c-4e61-bffb-99673722a6b7"
      },
      "execution_count": null,
      "outputs": [
        {
          "output_type": "stream",
          "name": "stdout",
          "text": [
            "Classificação suavizada da subárea salva com sucesso.\n"
          ]
        }
      ]
    }
  ]
}